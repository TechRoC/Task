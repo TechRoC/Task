{
  "nbformat": 4,
  "nbformat_minor": 0,
  "metadata": {
    "colab": {
      "name": "Untitled8.ipynb",
      "provenance": [],
      "collapsed_sections": [],
      "mount_file_id": "1rw-kdCiyCMskSezLsvRJDFPMpEyKpNCb",
      "authorship_tag": "ABX9TyPJhqX1lTWSsjxIk20qTKRX",
      "include_colab_link": true
    },
    "kernelspec": {
      "name": "python3",
      "display_name": "Python 3"
    }
  },
  "cells": [
    {
      "cell_type": "markdown",
      "metadata": {
        "id": "view-in-github",
        "colab_type": "text"
      },
      "source": [
        "<a href=\"https://colab.research.google.com/github/TechRoC/Task/blob/master/Untitled8.ipynb\" target=\"_parent\"><img src=\"https://colab.research.google.com/assets/colab-badge.svg\" alt=\"Open In Colab\"/></a>"
      ]
    },
    {
      "cell_type": "code",
      "metadata": {
        "id": "8v6HQ4UaCEbp",
        "colab_type": "code",
        "colab": {}
      },
      "source": [
        " '''\n",
        " The required pages are split into another pdf to reduced pdf size. The GOPENH/GOPENS category columns extracted \n",
        " with the help of tabula and exported into csv. Csv and pdf are attached with the code.\n",
        " '''\n",
        "\n"
      ],
      "execution_count": null,
      "outputs": []
    },
    {
      "cell_type": "code",
      "metadata": {
        "id": "91ePf81WX6yr",
        "colab_type": "code",
        "colab": {}
      },
      "source": [
        "import pandas as pd"
      ],
      "execution_count": 28,
      "outputs": []
    },
    {
      "cell_type": "code",
      "metadata": {
        "id": "JBTYobCtvhCQ",
        "colab_type": "code",
        "colab": {}
      },
      "source": [
        "data = pd.read_csv('/content/tabula-college_cutoffs (1) (1).csv')"
      ],
      "execution_count": 29,
      "outputs": []
    },
    {
      "cell_type": "code",
      "metadata": {
        "id": "6tANIwTDwB4s",
        "colab_type": "code",
        "colab": {}
      },
      "source": [
        "pd.set_option('display.max_rows',None)"
      ],
      "execution_count": 30,
      "outputs": []
    },
    {
      "cell_type": "markdown",
      "metadata": {
        "id": "RE3WzHXXvF4W",
        "colab_type": "text"
      },
      "source": [
        ""
      ]
    },
    {
      "cell_type": "code",
      "metadata": {
        "id": "qW8Ngxttw-KI",
        "colab_type": "code",
        "colab": {}
      },
      "source": [
        "indexName = data[data['GOPENH'] == 'GOPENH'].index\n",
        "data.drop(indexName,inplace=True)\n",
        "indexName1 = data[data['GOPENH'] == 'GOPENS'].index\n",
        "data.drop(indexName1,inplace=True)"
      ],
      "execution_count": 31,
      "outputs": []
    },
    {
      "cell_type": "code",
      "metadata": {
        "id": "Re45s6XD0OT_",
        "colab_type": "code",
        "colab": {}
      },
      "source": [
        "data"
      ],
      "execution_count": null,
      "outputs": []
    },
    {
      "cell_type": "code",
      "metadata": {
        "id": "eKPUBgzW6wk9",
        "colab_type": "code",
        "colab": {}
      },
      "source": [
        "# Importing re package for using regular expressions \n",
        "import re \n",
        "import numpy as np\n",
        "\n",
        "# Function to clean the \\r(..........) leading value\n",
        "def Clean_names(extra_val):  \n",
        "\tif re.search('\\r\\(.*', extra_val): \n",
        "\t\tpos = re.search('\\r\\(.*', extra_val).start() \n",
        "\t\treturn extra_val[:pos] \n",
        "\telse: \n",
        "\t\treturn extra_val \n",
        "\t\t\n",
        "# Updated the  column\n",
        "data['GOPENH'] = data['GOPENH'].apply(Clean_names) \n",
        "\n",
        "\n"
      ],
      "execution_count": 33,
      "outputs": []
    },
    {
      "cell_type": "code",
      "metadata": {
        "id": "Lp8tJNLB8_WE",
        "colab_type": "code",
        "colab": {}
      },
      "source": [
        "# converting into integer\n",
        "def int_con(value):\n",
        "  try:\n",
        "    return int(value)\n",
        "  except Exception as e:\n",
        "    pass\n",
        "  return np.NaN\n",
        "data['GOPENH'] = data['GOPENH'].apply(int_con) "
      ],
      "execution_count": 34,
      "outputs": []
    },
    {
      "cell_type": "code",
      "metadata": {
        "id": "ekMHC5Q39DTF",
        "colab_type": "code",
        "colab": {}
      },
      "source": [
        "#droping NaN values\n",
        "data = data['GOPENH'].dropna()"
      ],
      "execution_count": 35,
      "outputs": []
    },
    {
      "cell_type": "code",
      "metadata": {
        "id": "jmd37YNVcCW2",
        "colab_type": "code",
        "colab": {}
      },
      "source": [
        "data = pd.DataFrame(data, columns=['GOPENH'])\n",
        "data.to_csv('Rank.csv')"
      ],
      "execution_count": 41,
      "outputs": []
    },
    {
      "cell_type": "code",
      "metadata": {
        "id": "3sX_UtOHLf9r",
        "colab_type": "code",
        "colab": {}
      },
      "source": [
        "#Reading college code\n",
        "data2 = pd.read_csv('/content/college_code.csv')\n",
        "rank = pd.read_csv('/content/Rank.csv')"
      ],
      "execution_count": 53,
      "outputs": []
    },
    {
      "cell_type": "code",
      "metadata": {
        "id": "9Pq0MA7WnYYM",
        "colab_type": "code",
        "colab": {}
      },
      "source": [
        "data2['GOPENH'] = rank['GOPENH']"
      ],
      "execution_count": 54,
      "outputs": []
    },
    {
      "cell_type": "code",
      "metadata": {
        "id": "vXiX-f_Knfk1",
        "colab_type": "code",
        "colab": {}
      },
      "source": [
        "# feww values I missed to extract\n",
        "missed_data = {'college_code' : [5181,6006,6144,6319,5322,6149,6160,6182,6187,6320,6609,6649,6759,6759,6794,6834],\n",
        "               'GOPENH': [52670,1255,54946,84485,64101,54154,48849,85995,61686,45917,86104,87156,68434,40406,82810,48049]}\n"
      ],
      "execution_count": 52,
      "outputs": []
    },
    {
      "cell_type": "code",
      "metadata": {
        "id": "jXbzGgm3ztl1",
        "colab_type": "code",
        "colab": {}
      },
      "source": [
        "missed_data = pd.DataFrame(missed_data)"
      ],
      "execution_count": 55,
      "outputs": []
    },
    {
      "cell_type": "code",
      "metadata": {
        "id": "Nrn108G0nPWc",
        "colab_type": "code",
        "colab": {}
      },
      "source": [
        "final_table = pd.concat([data2,missed_data],ignore_index=True)"
      ],
      "execution_count": 56,
      "outputs": []
    },
    {
      "cell_type": "code",
      "metadata": {
        "id": "Ou4ON-mhns3H",
        "colab_type": "code",
        "colab": {}
      },
      "source": [
        "final_table.sort_values('GOPENH',ascending=False,inplace=True)"
      ],
      "execution_count": 57,
      "outputs": []
    },
    {
      "cell_type": "code",
      "metadata": {
        "id": "xO9bs1CyoHbw",
        "colab_type": "code",
        "colab": {
          "base_uri": "https://localhost:8080/",
          "height": 393
        },
        "outputId": "a8ab9424-2226-4be8-8d9b-f25eff45da1b"
      },
      "source": [
        "print(\"Top 10 colleges of Savitribai Phule University\")\n",
        "print(\"colleg Code and Rank of GOPENH/GOPENS category of civil Engineer Branch\")\n",
        "final_table[:10]"
      ],
      "execution_count": 62,
      "outputs": [
        {
          "output_type": "stream",
          "text": [
            "Top 10 colleges of Savitribai Phule University\n",
            "colleg Code and Rank of GOPENH/GOPENS category of civil Engineer Branch\n"
          ],
          "name": "stdout"
        },
        {
          "output_type": "execute_result",
          "data": {
            "text/html": [
              "<div>\n",
              "<style scoped>\n",
              "    .dataframe tbody tr th:only-of-type {\n",
              "        vertical-align: middle;\n",
              "    }\n",
              "\n",
              "    .dataframe tbody tr th {\n",
              "        vertical-align: top;\n",
              "    }\n",
              "\n",
              "    .dataframe thead th {\n",
              "        text-align: right;\n",
              "    }\n",
              "</style>\n",
              "<table border=\"1\" class=\"dataframe\">\n",
              "  <thead>\n",
              "    <tr style=\"text-align: right;\">\n",
              "      <th></th>\n",
              "      <th>college_code</th>\n",
              "      <th>GOPENH</th>\n",
              "    </tr>\n",
              "  </thead>\n",
              "  <tbody>\n",
              "    <tr>\n",
              "      <th>95</th>\n",
              "      <td>6649</td>\n",
              "      <td>87156.0</td>\n",
              "    </tr>\n",
              "    <tr>\n",
              "      <th>56</th>\n",
              "      <td>6319</td>\n",
              "      <td>87078.0</td>\n",
              "    </tr>\n",
              "    <tr>\n",
              "      <th>45</th>\n",
              "      <td>6187</td>\n",
              "      <td>86733.0</td>\n",
              "    </tr>\n",
              "    <tr>\n",
              "      <th>71</th>\n",
              "      <td>6755</td>\n",
              "      <td>86681.0</td>\n",
              "    </tr>\n",
              "    <tr>\n",
              "      <th>18</th>\n",
              "      <td>5331</td>\n",
              "      <td>86676.0</td>\n",
              "    </tr>\n",
              "    <tr>\n",
              "      <th>66</th>\n",
              "      <td>6634</td>\n",
              "      <td>86552.0</td>\n",
              "    </tr>\n",
              "    <tr>\n",
              "      <th>69</th>\n",
              "      <td>6649</td>\n",
              "      <td>86534.0</td>\n",
              "    </tr>\n",
              "    <tr>\n",
              "      <th>30</th>\n",
              "      <td>6138</td>\n",
              "      <td>86522.0</td>\n",
              "    </tr>\n",
              "    <tr>\n",
              "      <th>75</th>\n",
              "      <td>6769</td>\n",
              "      <td>86401.0</td>\n",
              "    </tr>\n",
              "    <tr>\n",
              "      <th>28</th>\n",
              "      <td>6122</td>\n",
              "      <td>86350.0</td>\n",
              "    </tr>\n",
              "  </tbody>\n",
              "</table>\n",
              "</div>"
            ],
            "text/plain": [
              "    college_code   GOPENH\n",
              "95          6649  87156.0\n",
              "56          6319  87078.0\n",
              "45          6187  86733.0\n",
              "71          6755  86681.0\n",
              "18          5331  86676.0\n",
              "66          6634  86552.0\n",
              "69          6649  86534.0\n",
              "30          6138  86522.0\n",
              "75          6769  86401.0\n",
              "28          6122  86350.0"
            ]
          },
          "metadata": {
            "tags": []
          },
          "execution_count": 62
        }
      ]
    },
    {
      "cell_type": "code",
      "metadata": {
        "id": "DZ0Yxxf2oI9R",
        "colab_type": "code",
        "colab": {}
      },
      "source": [
        ""
      ],
      "execution_count": null,
      "outputs": []
    }
  ]
}